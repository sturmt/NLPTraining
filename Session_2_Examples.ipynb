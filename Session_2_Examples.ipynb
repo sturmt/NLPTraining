{
  "nbformat": 4,
  "nbformat_minor": 0,
  "metadata": {
    "colab": {
      "provenance": [],
      "authorship_tag": "ABX9TyP0P7zrlJWcbfr3hu20WUqs",
      "include_colab_link": true
    },
    "kernelspec": {
      "name": "python3",
      "display_name": "Python 3"
    },
    "language_info": {
      "name": "python"
    }
  },
  "cells": [
    {
      "cell_type": "markdown",
      "metadata": {
        "id": "view-in-github",
        "colab_type": "text"
      },
      "source": [
        "<a href=\"https://colab.research.google.com/github/sturmt/NLPtraining/blob/main/Session_2_Examples.ipynb\" target=\"_parent\"><img src=\"https://colab.research.google.com/assets/colab-badge.svg\" alt=\"Open In Colab\"/></a>"
      ]
    },
    {
      "cell_type": "code",
      "execution_count": 4,
      "metadata": {
        "id": "nlmn52ijGZki",
        "colab": {
          "base_uri": "https://localhost:8080/"
        },
        "outputId": "a647d833-9bbe-4dd4-8afe-cc757f8eaad7"
      },
      "outputs": [
        {
          "output_type": "stream",
          "name": "stdout",
          "text": [
            "The DET\n",
            "cat NOUN\n",
            "sat VERB\n",
            "on ADP\n",
            "the DET\n",
            "ground NOUN\n",
            "[cat, ground]\n"
          ]
        }
      ],
      "source": [
        "import spacy\n",
        "nlp = spacy.load(\"en_core_web_sm\")\n",
        "\n",
        "text = 'The cat sat on the ground'\n",
        "\n",
        "doc = nlp(text)\n",
        "for token in doc:\n",
        "  print(token.text, token.pos_)\n",
        "\n",
        "noun = [token for token in doc if token.pos_=='NOUN']\n",
        "print(noun)"
      ]
    },
    {
      "cell_type": "code",
      "source": [],
      "metadata": {
        "id": "2dXNoZ4GZu7f"
      },
      "execution_count": null,
      "outputs": []
    }
  ]
}